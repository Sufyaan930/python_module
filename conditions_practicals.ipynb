{
 "cells": [
  {
   "cell_type": "code",
   "execution_count": 3,
   "metadata": {},
   "outputs": [
    {
     "name": "stdout",
     "output_type": "stream",
     "text": [
      "Number is positive\n"
     ]
    }
   ],
   "source": [
    "# Write a program that checks if a number is positive. If it is, print \"The number is positive.\"\n",
    "num = input(\"Please enter a number: \")\n",
    "num = int(num)\n",
    "if num > 0:\n",
    "    print(\"Number is positive\")"
   ]
  },
  {
   "cell_type": "code",
   "execution_count": 4,
   "metadata": {},
   "outputs": [
    {
     "name": "stdout",
     "output_type": "stream",
     "text": [
      "Number is odd\n"
     ]
    }
   ],
   "source": [
    "#Write a program that checks if a number is even or odd. Print \"Even\" if the number is even, otherwise print \"Odd.\"\n",
    "\n",
    "num = input(\"Please enter a number\")\n",
    "num = int(num)\n",
    "\n",
    "if num%2==0:\n",
    "    print(\"Number is even\")\n",
    "else:\n",
    "    print(\"Number is odd\")"
   ]
  },
  {
   "cell_type": "code",
   "execution_count": 5,
   "metadata": {},
   "outputs": [
    {
     "name": "stdout",
     "output_type": "stream",
     "text": [
      "Number is positive\n"
     ]
    }
   ],
   "source": [
    "#Write a program that checks if a number is positive, negative, or zero.\n",
    "\n",
    "num = input(\"Please enter a number: \")\n",
    "num = int(num)\n",
    "\n",
    "if num > 0:\n",
    "    print(\"Number is positive\")\n",
    "elif num < 0:\n",
    "    print(\"Number is Negative \")\n",
    "else:\n",
    "    print(\"Number is Zero\")"
   ]
  },
  {
   "cell_type": "code",
   "execution_count": 6,
   "metadata": {},
   "outputs": [
    {
     "ename": "SyntaxError",
     "evalue": "incomplete input (2189961938.py, line 16)",
     "output_type": "error",
     "traceback": [
      "\u001b[1;36m  Cell \u001b[1;32mIn[6], line 16\u001b[1;36m\u001b[0m\n\u001b[1;33m    print(f\"The grade of the student is {grade}\"\u001b[0m\n\u001b[1;37m                                                ^\u001b[0m\n\u001b[1;31mSyntaxError\u001b[0m\u001b[1;31m:\u001b[0m incomplete input\n"
     ]
    }
   ],
   "source": [
    " #Write a program to assign grades based on a student's score. If the score is 90 or above, grade 'A'; 80-89, grade 'B'; 70-79, grade 'C'; below 70, grade 'D'.\n",
    "\n",
    "score = input(\"Please enter student's score: \")\n",
    "score = int(score)\n",
    "\n",
    "garde = 0\n",
    "if score >=90:\n",
    "    grade = \"A\"\n",
    "elif score >=80:\n",
    "    grade = \"B\"\n",
    "elif score >=70:\n",
    "    grade = \"C\"\n",
    "else:\n",
    "    grade = \"D\"\n",
    "\n",
    "print(f\"The grade of the student is {grade}\""
   ]
  },
  {
   "cell_type": "code",
   "execution_count": null,
   "metadata": {},
   "outputs": [],
   "source": [
    "#Write a program to check if a given year is a leap year. A year is a leap year if it is divisible by 4, except for end-of-century years which must be divisible by 400.\n",
    "\n",
    "year = input(\"Enter the year: \")\n",
    "year = int(year)\n",
    "\n",
    "if year%4==0:\n",
    "    print(f\"Year {year} is a leap year\")\n",
    "    if year%400==0:\n",
    "        print(f\"Year {year} is a leap year\")\n",
    "    else:\n",
    "        print(f\"Year {year} is not a leap year\")\n",
    "else:   \n",
    "    print(f\"Year {year} is not a leap year\") "
   ]
  },
  {
   "cell_type": "code",
   "execution_count": null,
   "metadata": {},
   "outputs": [],
   "source": [
    "#Write a program to find the maximum of three numbers.\n",
    "num1 = input(\"Enter number 1: \")\n",
    "num1 = int(num1)\n",
    "num2 = input(\"Enter number 2: \")\n",
    "num2 = int(num2)\n",
    "num3 = input(\"Enter number 3: \")\n",
    "num3 = int(num3)\n",
    "\n",
    "\n",
    "if num1 >= num2:\n",
    "    if num1 >= num3:\n",
    "        maximum = num1\n",
    "    else:\n",
    "        maximum = num3\n",
    "else:\n",
    "    if num2 >= num3:\n",
    "        maximum = num2\n",
    "    else:\n",
    "        maximum = num3\n",
    "\n",
    "# Output: Display the maximum number\n",
    "print(f\"The maximum number is: {maximum}\")"
   ]
  },
  {
   "cell_type": "code",
   "execution_count": null,
   "metadata": {},
   "outputs": [],
   "source": [
    "#Write a program to calculate the Body Mass Index (BMI) and categorize it as Underweight, Normal weight, Overweight, or Obese.\n",
    "height = input(\"Please your height in metres: \")\n",
    "height = float(height)\n",
    "mass = input(\"Please enter your mass in kilograms: \")\n",
    "mass = float(mass)\n",
    "\n",
    "bmi = mass / (height * height)\n",
    "\n",
    "if bmi < 18.5:\n",
    "    category = \"Underweight\"\n",
    "elif (bmi >= 18.5) and (bmi < 25):\n",
    "    category = \"Normal weight\"\n",
    "elif (bmi >= 25) and (bmi < 40):\n",
    "    category = \"Over Weight\"\n",
    "else:\n",
    "    category = \"Obese\"\n",
    "\n",
    "print(f\"Your BMI is {bmi}\")\n",
    "print(f\"Category is {category}\")"
   ]
  },
  {
   "cell_type": "code",
   "execution_count": null,
   "metadata": {},
   "outputs": [],
   "source": [
    "#Write a simple calculator program that can add, subtract, multiply, or divide two numbers based on the user's choice.\n",
    "\n",
    "num1 = input(\"Please enter first number: \")\n",
    "num1 = int(num1)\n",
    "num2 = input(\"Please enter second number: \")\n",
    "num2 = int(num2)\n",
    "\n",
    "choice = input(\"Enter your choice: \")\n",
    "\n",
    "if choice == \"A\":\n",
    "    sum = num1 + num2\n",
    "    print(f\"The sum of the two numbers is {sum}\")\n",
    "elif choice == \"B\":\n",
    "    diff = num1 - num2\n",
    "    print(f\"The difference of the two numbers is {diff}\")\n",
    "elif choice == \"C\":\n",
    "    product = num1 * num2\n",
    "    print(f\"The product of the two numbers is {product}\")\n",
    "else:\n",
    "    div = num1 / num2\n",
    "    print(f\"The division of the two numbers is {div}\")"
   ]
  },
  {
   "cell_type": "code",
   "execution_count": null,
   "metadata": {},
   "outputs": [],
   "source": [
    "#Write a program to check if a person is eligible to vote based on their age. The voting age is 18 or older.\n",
    "\n",
    "age = input(\"Please input ypur age: \")\n",
    "age = int(age)\n",
    "\n",
    "if age >= 18:\n",
    "    print(\"You are eligible to vote\")\n",
    "else:\n",
    "    print(\"You are not eligible to vote\")"
   ]
  },
  {
   "cell_type": "code",
   "execution_count": null,
   "metadata": {},
   "outputs": [],
   "source": [
    "#You have a shopping cart with items and their prices. If the total price exceeds $100, apply a 10% discount.\n",
    "#Write a program to calculate the final price after the discount.\n",
    "\n",
    "num_items = input(\"Please enter the number of items brought: \")\n",
    "num_items = int(num_items)\n",
    "total = 0\n",
    "final_price = 0\n",
    "for i in range (1,3):\n",
    "    price = input(f\"Enter price for each items{i}: \")\n",
    "    price = float(price)\n",
    "    total = total + price\n",
    "\n",
    "if total > 100:\n",
    "    print(\"You have a discount of 10%\")\n",
    "\n",
    "    final_price = total - (total * 0.1)\n",
    "else:\n",
    "    final_price = total\n",
    "\n",
    "\n",
    "print(f\"The final price of the items is: {final_price}\")"
   ]
  },
  {
   "cell_type": "code",
   "execution_count": null,
   "metadata": {},
   "outputs": [],
   "source": [
    "#In an online store, if the total purchase is over $50, the customer gets free shipping.\n",
    "#Write a program to calculate the total price including or excluding shipping.\n",
    "\n",
    "prices = [10, 35, 40, 100]\n",
    "print(prices)\n",
    "total = sum(prices)\n",
    "print(total)\n",
    "final_price = 0\n",
    "shipping_fee = 5.00\n",
    "\n",
    "if total > 50:\n",
    "    print(\"You have free shipping\")\n",
    "    final_price = total\n",
    "else:\n",
    "    final_price = total + shipping_fee\n",
    "\n",
    "    print(f\"The final price is: ${final_price}\")"
   ]
  },
  {
   "cell_type": "code",
   "execution_count": null,
   "metadata": {},
   "outputs": [],
   "source": [
    "#Write a program that takes three sides of a triangle and determines if the triangle is Equilateral, Isosceles, or Scalene.\n",
    "side1 = input(\"Enter the first side of the triangle: \")\n",
    "side1 = int(side1)\n",
    "side2 = input(\"Enter the second side of the triangle: \")\n",
    "side2 = int(side2)\n",
    "side3 = input(\"Enter the third side of the triangle: \")\n",
    "side3 = int(side3)\n",
    "\n",
    "if ((side1 + side2) > side3) and ((side1+side3)>side2) and ((side2+side3)>side1):\n",
    " if side1 == side2 ==side3:\n",
    "    print(\"The triangle is equilateral\")\n",
    " elif side1 == side2:\n",
    "    print(\"The triangle is Isosceles\")\n",
    " else:\n",
    "    print(\"The triangle is scalene\")\n",
    "else: \n",
    "   print(\"The sides do not form a triangle\")"
   ]
  },
  {
   "cell_type": "code",
   "execution_count": null,
   "metadata": {},
   "outputs": [],
   "source": [
    "# Write a program to simulate a Rock, Paper, Scissors game between the user and the computer."
   ]
  },
  {
   "cell_type": "code",
   "execution_count": null,
   "metadata": {},
   "outputs": [],
   "source": [
    "#Simulate an ATM where a user can withdraw money. The user should not be able to withdraw more than the balance.\n",
    "#Write a program to check if the withdrawal amount is valid and update the balance accordingly.\n",
    "\n",
    "current_balance = 300000.00\n",
    "print(f\"Your current balance is {current_balance}\")\n",
    "\n",
    "withdrawal = input(\"How much do you want to withdraw: \")\n",
    "withdrawal = float(withdrawal)\n",
    "\n",
    "if withdrawal <=0:\n",
    "    print(\"Invalid amount! Enter correct amount\")\n",
    "elif withdrawal > current_balance:\n",
    "    print(\"Withdrawal cannot be performed\")\n",
    "else:\n",
    "   new_balance = current_balance - withdrawal\n",
    "   print(f\"Withdrawal successful!Amount withdrawn is {withdrawal}\")\n",
    "   print(f\"Your new balance is {new_balance}\")"
   ]
  },
  {
   "cell_type": "code",
   "execution_count": null,
   "metadata": {},
   "outputs": [],
   "source": [
    "#A bank offers loans to customers. To qualify for a loan, the customer must have a stable income, be above 21 years old, and have no existing debts.\n",
    "#Write a program to determine if a customer is eligible for a loan.\n",
    "\n",
    "age = input(\"Enter your age: \")\n",
    "age = int(age)\n",
    "existing_debts = input(\"Do you have existing debts yes/no: \")\n",
    "stable_income = input(\"Do you have a stable income yes/no: \")\n",
    "\n",
    "\n",
    "if age > 21 and stable_income=='yes' and existing_debts == \"no\":\n",
    "    print(\"You are eligible for a loan\")\n",
    "else:\n",
    "    print(\"You are not eligible for a loan\")"
   ]
  },
  {
   "cell_type": "code",
   "execution_count": null,
   "metadata": {},
   "outputs": [],
   "source": [
    "#Write a program to check the strength of a password based on length, inclusion of uppercase, lowercase, numbers, and special characters.\n",
    "\n",
    "password = input(\"Please enter your password: \")\n",
    "\n",
    "strong = True\n",
    "\n",
    "if len(password) < 8:\n",
    "    print(\"Password must be at least 8 characters\")\n",
    "    strong = False\n",
    "\n",
    "if "
   ]
  },
  {
   "cell_type": "code",
   "execution_count": null,
   "metadata": {},
   "outputs": [],
   "source": [
    "#- Ticket prices for an event vary based on age. Write a program to calculate the ticket price based on the age of the attendee.\n",
    "# **Children (0-12 years)**: $10\n",
    "#**Teens (13-17 years)**: $15\n",
    "# **Adults (18-59 years)**: $20\n",
    "# **Seniors (60+ years)**: $12\n",
    "\n",
    "age = input(\"Please enter your age: \")\n",
    "age = int(age)\n",
    "ticket_price = 0\n",
    "\n",
    "if age >= 60:\n",
    "    ticket_price = 12\n",
    "    print(\"You are a senior citizen\")\n",
    "    print(f\"Your ticket price is ${ticket_price}\")\n",
    "elif age >= 18:\n",
    "    ticket_price = 20\n",
    "    print(\"You are an adult\")\n",
    "    print(f\"Your ticket price is ${ticket_price}\")\n",
    "elif age >= 13:\n",
    "    ticket_price = 15\n",
    "    print(\"You are a teenager\")\n",
    "    print(f\"Your ticket price is ${ticket_price}\")\n",
    "else:\n",
    "    ticket_price = 15\n",
    "    print(\"You are a child\")\n",
    "    print(f\"Your ticket price is ${ticket_price}\")"
   ]
  },
  {
   "cell_type": "code",
   "execution_count": null,
   "metadata": {},
   "outputs": [],
   "source": [
    "#In a warehouse, an order can be fulfilled if all items are in stock and the total order weight does not exceed a specified limit.\n",
    "#Write a program to check if an order can be fulfilled based on stock availability and weight.\n",
    "\n",
    "limit = "
   ]
  },
  {
   "cell_type": "code",
   "execution_count": null,
   "metadata": {},
   "outputs": [],
   "source": [
    "#Based on employee ratings, determine if an employee is eligible for a bonus. Ratings are given for performance, teamwork, and punctuality.\n",
    "#Write a program to calculate the average rating and decide if the employee gets a bonus (average rating >= 4.5).\n",
    "\n",
    "performance = input(\"Please enter the ratings for his performance: \")\n",
    "performance = float(performance)\n",
    "teamwork = input(\"Please enter the ratings for his teamwork: \")\n",
    "teamwork = float(teamwork)\n",
    "punctuality = input(\"PLease enter the ratings for his punctuality: \")\n",
    "punctuality = float(punctuality)\n",
    "\n",
    "sum = performance + teamwork + punctuality\n",
    "average = sum/3\n",
    "\n",
    "if average >= 4.5:\n",
    "    print(\"The employee is eligible for a bonus\")\n",
    "else:\n",
    "    print(\"The employee is not eligible for a bonus\")"
   ]
  },
  {
   "cell_type": "code",
   "execution_count": null,
   "metadata": {},
   "outputs": [],
   "source": [
    "#- You are designing a smart thermostat. It adjusts the temperature based on the time of day and the presence of people in the house.\n",
    "# Morning (6 AM - 9 AM)**: If people are present, set to 22°C, otherwise set to 18°C.\n",
    "#Day (9 AM - 6 PM)**: If people are present, set to 21°C, otherwise set to 16°C.\n",
    "#Evening (6 PM - 10 PM)**: If people are present, set to 22°C, otherwise set to 18°C.\n",
    "#Night (10 PM - 6 AM)**: Set to 17°C regardless.\n",
    "#Write a program to simulate this smart thermostat behavior."
   ]
  }
 ],
 "metadata": {
  "kernelspec": {
   "display_name": "Python 3",
   "language": "python",
   "name": "python3"
  },
  "language_info": {
   "codemirror_mode": {
    "name": "ipython",
    "version": 3
   },
   "file_extension": ".py",
   "mimetype": "text/x-python",
   "name": "python",
   "nbconvert_exporter": "python",
   "pygments_lexer": "ipython3",
   "version": "3.12.6"
  }
 },
 "nbformat": 4,
 "nbformat_minor": 2
}

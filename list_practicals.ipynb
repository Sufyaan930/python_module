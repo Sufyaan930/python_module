{
 "cells": [
  {
   "cell_type": "code",
   "execution_count": 21,
   "metadata": {},
   "outputs": [
    {
     "name": "stdout",
     "output_type": "stream",
     "text": [
      "The items in the list are:  ['apple', 'banana', 'cherry']\n"
     ]
    }
   ],
   "source": [
    "#Exercise 1: Creating a List\n",
    "#Create a list named `fruits` containing the following elements: `\"apple\"`, `\"banana\"`, `\"cherry\"`. Print the list.\n",
    "#Use square brackets `[]` to define the list.\n",
    "\n",
    "fruits=[\"apple\", \"banana\", \"cherry\"]\n",
    "print(\"The items in the list are: \",fruits)"
   ]
  },
  {
   "cell_type": "code",
   "execution_count": 22,
   "metadata": {},
   "outputs": [
    {
     "name": "stdout",
     "output_type": "stream",
     "text": [
      "The first item in the list is:  apple\n",
      "The last items in the list is:  cherry\n"
     ]
    }
   ],
   "source": [
    "#Exercise 2: Accessing Elements\n",
    "#Access and print the first and last elements of the list `fruits` created in Exercise 1.\n",
    "# Use list indexing `[]` to access specific elements.\n",
    "\n",
    "print(\"The first item in the list is: \", fruits[0])\n",
    "print(\"The last items in the list is: \", fruits[2])\n"
   ]
  },
  {
   "cell_type": "code",
   "execution_count": 23,
   "metadata": {},
   "outputs": [
    {
     "name": "stdout",
     "output_type": "stream",
     "text": [
      "The updated list is:  ['apple', 'orange', 'cherry']\n"
     ]
    }
   ],
   "source": [
    "#Exercise 3: Modifying Elements\n",
    "#Replace `\"banana\"` with `\"orange\"` in the list `fruits` and print the updated list.\n",
    "# Assign a new value to the specific index.\n",
    "\n",
    "fruits[1]=\"orange\"\n",
    "print(\"The updated list is: \", fruits)"
   ]
  },
  {
   "cell_type": "code",
   "execution_count": 24,
   "metadata": {},
   "outputs": [
    {
     "name": "stdout",
     "output_type": "stream",
     "text": [
      "The updated list is:  ['apple', 'orange', 'cherry', 'grape']\n"
     ]
    }
   ],
   "source": [
    "#Exercise 4: Appending Elements\n",
    "#Add the fruit `\"grape\"` to the end of the list `fruits` and print the updated list.\n",
    "# Use the `append()` method.\n",
    "\n",
    "fruits.append(\"grape\")\n",
    "print(\"The updated list is: \", fruits)\n"
   ]
  },
  {
   "cell_type": "code",
   "execution_count": 25,
   "metadata": {},
   "outputs": [
    {
     "name": "stdout",
     "output_type": "stream",
     "text": [
      "The updated list is:  ['apple', 'mango', 'orange', 'cherry', 'grape']\n"
     ]
    }
   ],
   "source": [
    "### **Exercise 5: Inserting Elements**\n",
    "#Insert `\"mango\"` between `\"apple\"` and `\"orange\"` in the list `fruits` and print the updated list.\n",
    "#Use the `insert()` method to add an element at a specific position.\n",
    "\n",
    "fruits.insert(1, \"mango\")\n",
    "print(\"The updated list is: \", fruits)"
   ]
  },
  {
   "cell_type": "code",
   "execution_count": 26,
   "metadata": {},
   "outputs": [
    {
     "name": "stdout",
     "output_type": "stream",
     "text": [
      "The updated list is:  ['apple', 'mango', 'orange', 'grape']\n"
     ]
    }
   ],
   "source": [
    "### **Exercise 6: Removing Elements**\n",
    "#Remove `\"cherry\"` from the list `fruits` and print the updated list.\n",
    "#Use the `remove()` method.\n",
    "\n",
    "fruits.remove('cherry')\n",
    "print(\"The updated list is: \", fruits)"
   ]
  },
  {
   "cell_type": "code",
   "execution_count": 27,
   "metadata": {},
   "outputs": [
    {
     "name": "stdout",
     "output_type": "stream",
     "text": [
      "The first three numbers are:  [1, 2, 3]\n",
      "The first three numbers are:  [8, 9, 10]\n"
     ]
    }
   ],
   "source": [
    "#Exercise 7: List Slicing**\n",
    "\n",
    "#Create a list of numbers from `1` to `10`. Print the first three elements and the last three elements using slicing.\n",
    "#Use the slice notation `[:]` to extract parts of the list.\n",
    "\n",
    "numbers=[1,2,3,4,5,6,7,8,9,10]\n",
    "first_three=numbers[:3]\n",
    "print(\"The first three numbers are: \", first_three)\n",
    "\n",
    "last_three=numbers[-3:]\n",
    "print(\"The first three numbers are: \", last_three)"
   ]
  },
  {
   "cell_type": "code",
   "execution_count": 28,
   "metadata": {},
   "outputs": [
    {
     "name": "stdout",
     "output_type": "stream",
     "text": [
      "The squares of the numbers is:  [1, 4, 9, 16, 25, 36, 49, 64, 81, 100]\n"
     ]
    }
   ],
   "source": [
    "#Exercise 8: List Comprehension**\n",
    "#Write a list comprehension that creates a list of squares for numbers from `1` to `10`.\n",
    "#Use the syntax `[expression for item in iterable]` for list comprehensions.\n",
    "\n",
    "square_number=[x**2 for x in numbers ]\n",
    "print(\"The squares of the numbers is: \", square_number)"
   ]
  },
  {
   "cell_type": "code",
   "execution_count": 45,
   "metadata": {},
   "outputs": [
    {
     "name": "stdout",
     "output_type": "stream",
     "text": [
      "The even numbers is:  [2, 4, 6, 8, 10, 12, 14, 16, 18, 20]\n"
     ]
    }
   ],
   "source": [
    "### **Exercise 9: Filtering with List Comprehension**\n",
    "#Write a list comprehension that creates a list of even numbers from `1` to `20`.\n",
    "#Use an `if` condition within the list comprehension.\n",
    "\n",
    "even_numbers=[x for x in range(1,21) if x%2 == 0]\n",
    "print(\"The even numbers is: \", even_numbers)\n",
    "\n",
    "\n"
   ]
  },
  {
   "cell_type": "code",
   "execution_count": 30,
   "metadata": {},
   "outputs": [
    {
     "name": "stdout",
     "output_type": "stream",
     "text": [
      "The list in ascending order is:  [1, 2, 5, 5, 6, 9]\n"
     ]
    }
   ],
   "source": [
    "### **Exercise 10: Sorting a List**\n",
    "#Given a list of numbers `[5, 2, 9, 1, 5, 6]`, write a program to sort the list in ascending order and print the sorted list.\n",
    "#Use the `sort()` method.\n",
    "\n",
    "numbers=[5, 2, 9, 1, 5, 6]\n",
    "numbers.sort()\n",
    "print(\"The list in ascending order is: \",numbers)"
   ]
  },
  {
   "cell_type": "code",
   "execution_count": 31,
   "metadata": {},
   "outputs": [
    {
     "name": "stdout",
     "output_type": "stream",
     "text": [
      "The reverse list is:  [5, 4, 3, 2, 1]\n"
     ]
    }
   ],
   "source": [
    "#Exercise 11: Reversing a List**\n",
    "#Reverse the order of elements in the list `[1, 2, 3, 4, 5]` and print the reversed list.\n",
    "#Use the `reverse()` method.\n",
    "\n",
    "num=[1, 2, 3, 4, 5]\n",
    "num.reverse()\n",
    "print(\"The reverse list is: \", num)"
   ]
  },
  {
   "cell_type": "code",
   "execution_count": 32,
   "metadata": {},
   "outputs": [
    {
     "name": "stdout",
     "output_type": "stream",
     "text": [
      "The element in the second and third row is:  6\n"
     ]
    }
   ],
   "source": [
    "### **Exercise 13: Creating and Accessing Nested Lists**\n",
    "#Create a nested list `matrix` representing the following 2x3 matrix:\n",
    "#Print the element at the second row, third column.\n",
    "# Use double indexing `[][]` to access elements in a nested list\n",
    "\n",
    "matrix = [\n",
    "    [1,2,3],\n",
    "    [4,5,6]\n",
    "]\n",
    "\n",
    "element= matrix [1][2]\n",
    "\n",
    "print(\"The element in the second and third row is: \", element)\n"
   ]
  },
  {
   "cell_type": "code",
   "execution_count": 33,
   "metadata": {},
   "outputs": [
    {
     "name": "stdout",
     "output_type": "stream",
     "text": [
      "1\n",
      "2\n",
      "3\n",
      "4\n",
      "5\n",
      "6\n"
     ]
    }
   ],
   "source": [
    "### **Exercise 14: Iterating Over Nested Lists**\n",
    "#Write a program to iterate over the `matrix` list from Exercise 13 and print each element.\n",
    "#Use nested `for` loops to iterate through rows and columns.\n",
    "\n",
    "matrix = [\n",
    "    [1,2,3],\n",
    "    [4,5,6]\n",
    "]\n",
    "\n",
    "for row in matrix:\n",
    "    for element in row:\n",
    "        print(element)"
   ]
  },
  {
   "cell_type": "code",
   "execution_count": 34,
   "metadata": {},
   "outputs": [],
   "source": [
    "### **Exercise 15: Transposing a Matrix**\n",
    "# Write a program to transpose the `matrix` list from Exercise 13 (swap rows and columns) and print the transposed matrix.\n",
    "#Use nested loops or list comprehension to swap rows with columns.\n",
    "\n"
   ]
  },
  {
   "cell_type": "code",
   "execution_count": 35,
   "metadata": {},
   "outputs": [
    {
     "name": "stdout",
     "output_type": "stream",
     "text": [
      "The minimun value is the list is:  12\n",
      "The maximum value in the list is:  89\n"
     ]
    }
   ],
   "source": [
    "### **Exercise 16: Finding the Maximum and Minimum**\n",
    "#Write a program to find and print the maximum and minimum values in the list `[34, 67, 12, 89, 33]`.\n",
    "# Use Python’s built-in `max()` and `min()` functions.\n",
    "\n",
    "values=[34, 67, 12, 89, 33]\n",
    "print(\"The minimun value is the list is: \", min(values))\n",
    "print(\"The maximum value in the list is: \",max(values))"
   ]
  },
  {
   "cell_type": "code",
   "execution_count": 36,
   "metadata": {},
   "outputs": [
    {
     "name": "stdout",
     "output_type": "stream",
     "text": [
      "The list without duplicates is:  {1, 2, 3, 4, 5}\n"
     ]
    }
   ],
   "source": [
    "### **Exercise 17: Removing Duplicates**\n",
    "#Write a program to remove duplicates from the list `[1, 2, 2, 3, 4, 4, 5]` and print the list with unique elements.\n",
    "# Convert the list to a set and back to a list.\n",
    "\n",
    "numbers=[1, 2, 2, 3, 4, 4, 5]\n",
    "set_numbers={1, 2, 2, 3, 4, 4, 5}\n",
    "print(\"The list without duplicates is: \", set_numbers)"
   ]
  },
  {
   "cell_type": "code",
   "execution_count": 37,
   "metadata": {},
   "outputs": [
    {
     "name": "stdout",
     "output_type": "stream",
     "text": [
      "The merged and sorted list is:  [1, 2, 3, 4, 5, 6]\n"
     ]
    }
   ],
   "source": [
    "### **Exercise 18: Merging and Sorting Lists**\n",
    "#Given two lists `[1, 3, 5]` and `[2, 4, 6]`, merge them into a single sorted list.\n",
    "#Use the `+` operator to concatenate lists and `sorted()` function to sort them.\n",
    "\n",
    "list1=[1,3,5]\n",
    "list2=[2,4,6]\n",
    "\n",
    "merged_list = list1 + list2\n",
    "sorted_list = sorted(merged_list)\n",
    "\n",
    "print(\"The merged and sorted list is: \", sorted_list)"
   ]
  },
  {
   "cell_type": "code",
   "execution_count": 38,
   "metadata": {},
   "outputs": [
    {
     "name": "stdout",
     "output_type": "stream",
     "text": [
      "The final inventory list is:  ['apple', 'cherry', 'orange']\n"
     ]
    }
   ],
   "source": [
    "### **Exercise 19: Simple Inventory System**\n",
    "#Scenario**: You are managing a small inventory of products.\n",
    "#Objective**: Create a list named `inventory` containing the products `\"apple\"`, `\"banana\"`, and `\"cherry\"`. Write a program to:\n",
    "#Add a new product `\"orange\"`.\n",
    "# Remove `\"banana\"`.\n",
    "#Print the final inventory list.\n",
    "#Use list operations like `append()`, `remove()`, and `print()`.\n",
    "\n",
    "inventory=[\"apple\", \"banana\", \"cherry\"]\n",
    "inventory.append(\"orange\")\n",
    "inventory.remove(\"banana\")\n",
    "print(\"The final inventory list is: \", inventory)"
   ]
  },
  {
   "cell_type": "code",
   "execution_count": 39,
   "metadata": {},
   "outputs": [
    {
     "name": "stdout",
     "output_type": "stream",
     "text": [
      "Updated stock is: \n",
      "('apple', 10)\n",
      "('banana', 40)\n",
      "('cherry', 50)\n"
     ]
    }
   ],
   "source": [
    "### **Exercise 20: Stock Level Management**\n",
    "#Scenario**: Each product in your inventory has a stock level.\n",
    "#Objective**: Create a list of tuples where each tuple contains a product name and its stock level (e.g., `(\"apple\", 50)`). Write a program to:\n",
    "#Increase the stock level of `\"apple\"` by `10`.\n",
    "#Print the updated stock levels.\n",
    "#Use list indexing to update the stock level and loop through the list to print the values.\n",
    "\n",
    "inventory=[(\"apple\",50), (\"banana\",40), (\"cherry\",50)]\n",
    "inventory[0]=(\"apple\",10)\n",
    "\n",
    "print(\"Updated stock is: \")\n",
    "for product in inventory:\n",
    "    print(product)\n"
   ]
  },
  {
   "cell_type": "code",
   "execution_count": 47,
   "metadata": {},
   "outputs": [
    {
     "name": "stdout",
     "output_type": "stream",
     "text": [
      "['name']\n"
     ]
    }
   ],
   "source": [
    "### **Exercise 21: Shopping Cart System**\n",
    "#Scenario**: You are developing a simple shopping cart system for an online store.\n",
    "#Objective**: Write a program to manage a shopping cart where users can:\n",
    "#Add items to the cart.\n",
    "# Remove items from the cart.\n",
    "# View the total number of items and the total cost.\n",
    "#Print the final list of items in the cart.\n",
    "#Use a list to store the items, and functions to handle adding, removing, and calculating totals.\n",
    "\n",
    "items=[]\n",
    "\n",
    "def add_items(item_name, item_price, qty=1):\n",
    "    \n",
    "\n"
   ]
  }
 ],
 "metadata": {
  "kernelspec": {
   "display_name": "Python 3",
   "language": "python",
   "name": "python3"
  },
  "language_info": {
   "codemirror_mode": {
    "name": "ipython",
    "version": 3
   },
   "file_extension": ".py",
   "mimetype": "text/x-python",
   "name": "python",
   "nbconvert_exporter": "python",
   "pygments_lexer": "ipython3",
   "version": "3.12.6"
  }
 },
 "nbformat": 4,
 "nbformat_minor": 2
}

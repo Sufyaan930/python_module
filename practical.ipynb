{
 "cells": [
  {
   "cell_type": "code",
   "execution_count": 3,
   "metadata": {},
   "outputs": [
    {
     "name": "stdout",
     "output_type": "stream",
     "text": [
      "54508040\n",
      "The keys in the dictionary is: \n",
      "4340544\n",
      "59382891\n",
      "54508040\n",
      "The values in the dictionary are: \n",
      "Sufyaan\n",
      "Lulu\n",
      "Kaya\n",
      "The keys and the value in the dictionary are: \n",
      "Sufyaan: 4340544\n",
      "Lulu: 59382891\n",
      "Kaya: 54508040\n"
     ]
    }
   ],
   "source": [
    "#Create an empty dictionary called **`phonebook`**\n",
    "phonebook={}\n",
    "#Add at least 3 entries to the dictionary, with people's names as the keys and their phone numbers as the values\n",
    "phonebook['Sufyaan']='59738007'\n",
    "phonebook['Bob']='59382891'\n",
    "phonebook['Joe']='54508040'\n",
    "#Print out the phone number of one of the people in the dictionary\n",
    "print(phonebook['Joe'])\n",
    "#Change the phone number of one of the people in the dictionary\n",
    "phonebook['Sufyaan']='4340544'\n",
    "#Print out all the keys and values in the dictionary using a loop, separated by a colon\n",
    "print('The keys in the dictionary is: ')\n",
    "for key in phonebook.values():\n",
    "    print(key)\n",
    "\n",
    "print(\"The values in the dictionary are: \")\n",
    "for value in phonebook:\n",
    "    print(value)\n",
    "\n",
    "print(\"The keys and the value in the dictionary are: \")\n",
    "for key, value in phonebook.items():\n",
    "    print(key + \":\", value)\n"
   ]
  }
 ],
 "metadata": {
  "kernelspec": {
   "display_name": "Python 3",
   "language": "python",
   "name": "python3"
  },
  "language_info": {
   "codemirror_mode": {
    "name": "ipython",
    "version": 3
   },
   "file_extension": ".py",
   "mimetype": "text/x-python",
   "name": "python",
   "nbconvert_exporter": "python",
   "pygments_lexer": "ipython3",
   "version": "3.12.6"
  }
 },
 "nbformat": 4,
 "nbformat_minor": 2
}

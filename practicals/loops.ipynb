{
 "cells": [
  {
   "cell_type": "code",
   "execution_count": 3,
   "metadata": {},
   "outputs": [
    {
     "name": "stdout",
     "output_type": "stream",
     "text": [
      "1\n",
      "2\n",
      "3\n",
      "4\n",
      "5\n",
      "6\n",
      "7\n",
      "8\n",
      "9\n",
      "10\n"
     ]
    }
   ],
   "source": [
    "#Print numbers from 1 to 10 using a `for` loop.\n",
    "#Use `range()` function.\n",
    "\n",
    "for numbers in range (1,11):\n",
    "    print(numbers)"
   ]
  },
  {
   "cell_type": "code",
   "execution_count": 4,
   "metadata": {},
   "outputs": [
    {
     "name": "stdout",
     "output_type": "stream",
     "text": [
      "The sum of the first 100 numbers is:  5050\n"
     ]
    }
   ],
   "source": [
    "# Calculate the sum of the first 100 natural numbers.\n",
    "#Initialise a variable to store the sum and iterate using a `for` loop\n",
    "\n",
    "sum = 0\n",
    "for number in range (1,101):\n",
    "    sum += number\n",
    "print(\"The sum of the first 100 numbers is: \",sum)"
   ]
  },
  {
   "cell_type": "code",
   "execution_count": 5,
   "metadata": {},
   "outputs": [
    {
     "name": "stdout",
     "output_type": "stream",
     "text": [
      "The even numbers is:  2\n",
      "The even numbers is:  4\n",
      "The even numbers is:  6\n",
      "The even numbers is:  8\n",
      "The even numbers is:  10\n",
      "The even numbers is:  12\n",
      "The even numbers is:  14\n",
      "The even numbers is:  16\n",
      "The even numbers is:  18\n",
      "The even numbers is:  20\n",
      "The even numbers is:  22\n",
      "The even numbers is:  24\n",
      "The even numbers is:  26\n",
      "The even numbers is:  28\n",
      "The even numbers is:  30\n",
      "The even numbers is:  32\n",
      "The even numbers is:  34\n",
      "The even numbers is:  36\n",
      "The even numbers is:  38\n",
      "The even numbers is:  40\n",
      "The even numbers is:  42\n",
      "The even numbers is:  44\n",
      "The even numbers is:  46\n",
      "The even numbers is:  48\n",
      "The even numbers is:  50\n"
     ]
    }
   ],
   "source": [
    "#Print all even numbers between 1 and 50 using a `for` loop.\n",
    "#Use an `if` condition to check if a number is even.\n",
    "\n",
    "for num in range (1,51):\n",
    "    if num%2==0:\n",
    "        print(\"The even numbers is: \",num)\n",
    "        "
   ]
  },
  {
   "cell_type": "code",
   "execution_count": 9,
   "metadata": {},
   "outputs": [
    {
     "name": "stdout",
     "output_type": "stream",
     "text": [
      "The sum of the numbers in the list is:  35\n"
     ]
    }
   ],
   "source": [
    "#Given a list of numbers `[3, 5, 7, 9, 11]`, write a program to find the sum of all the elements using a `for` loop.\n",
    "# Use a `for` loop to iterate through the list.\n",
    "\n",
    "number=[3,5,7,9,11]\n",
    "sum=0\n",
    "\n",
    "for num in number:\n",
    "    sum += num\n",
    "print(\"The sum of the numbers in the list is: \",sum)"
   ]
  },
  {
   "cell_type": "code",
   "execution_count": 10,
   "metadata": {},
   "outputs": [],
   "source": [
    "#Write a program to find the maximum number in a list `[34, 12, 67, 45, 89, 23]`.\n",
    "# Use a `for` loop and keep track of the maximum value.\n",
    "\n",
    "number=[34,12,67,45,89,23]\n",
    "max_number=0\n",
    "\n",
    "for num in number:\n",
    "    if num > number:\n",
    "        \n"
   ]
  },
  {
   "cell_type": "code",
   "execution_count": 11,
   "metadata": {},
   "outputs": [
    {
     "name": "stdout",
     "output_type": "stream",
     "text": [
      "The count of the occurrences of apple is:  3\n"
     ]
    }
   ],
   "source": [
    "#Given a list `['apple', 'banana', 'cherry', 'apple', 'cherry', 'apple']`, count the occurrences of the element 'apple'.\n",
    "# Use a loop to iterate through the list and a counter variable.\n",
    "\n",
    "fruits=['apple', 'banana', 'cherry', 'apple', 'cherry', 'apple']\n",
    "count=0\n",
    "for items in fruits:\n",
    "    if items == 'apple':\n",
    "        count += 1\n",
    "print(\"The count of the occurrences of apple is: \",count)"
   ]
  },
  {
   "cell_type": "code",
   "execution_count": null,
   "metadata": {},
   "outputs": [],
   "source": [
    "# Write a program to reverse the string \"Python\" using a `for` loop.\n",
    "#Iterate through the string from the end to the beginning.\n"
   ]
  },
  {
   "cell_type": "code",
   "execution_count": 13,
   "metadata": {},
   "outputs": [
    {
     "name": "stdout",
     "output_type": "stream",
     "text": [
      "The number of vowels in Hello World is:  3\n"
     ]
    }
   ],
   "source": [
    "#Write a program to count the number of vowels in the string \"Hello World\".\n",
    " #Use a `for` loop and an `if` condition to check for vowels.\n",
    "\n",
    "string=\"Hello World\"\n",
    "count = 0\n",
    "\n",
    "for char in string:\n",
    "    if (char=='a') or (char=='e')  or (char=='i') or (char=='o') or (char=='u'):\n",
    "        count += 1\n",
    "print(\"The number of vowels in Hello World is: \",count)\n"
   ]
  },
  {
   "cell_type": "code",
   "execution_count": 25,
   "metadata": {},
   "outputs": [
    {
     "name": "stdout",
     "output_type": "stream",
     "text": [
      "1\t2\t3\t4\t5\t\n",
      "\n",
      "2\t4\t6\t8\t10\t\n",
      "\n",
      "3\t6\t9\t12\t15\t\n",
      "\n",
      "4\t8\t12\t16\t20\t\n",
      "\n",
      "5\t10\t15\t20\t25\t\n",
      "\n"
     ]
    }
   ],
   "source": [
    "#Print the multiplication table from 1 to 5 using nested loops.\n",
    "# Use two `for` loops, one for the row and one for the column.\n",
    "\n",
    "for i in range (1,6):\n",
    "    for j in range (1,6):\n",
    "        print(i*j, end=\"\\t\")\n",
    "    print(\"\\n\")"
   ]
  },
  {
   "cell_type": "code",
   "execution_count": 29,
   "metadata": {},
   "outputs": [
    {
     "name": "stdout",
     "output_type": "stream",
     "text": [
      "*\n",
      "\n",
      "**\n",
      "\n",
      "***\n",
      "\n",
      "****\n",
      "\n",
      "*****\n",
      "\n"
     ]
    }
   ],
   "source": [
    "#Print the following pattern:\n",
    "#markdownCopy code\n",
    "#*\n",
    "#**\n",
    "#***\n",
    "#****\n",
    "#*****\n",
    "#Use a nested loop, with the outer loop controlling the rows and the inner loop controlling the columns.\n",
    "\n",
    "for i in range (1,6):\n",
    "    for j in range (i):\n",
    "        print(\"*\", end=\"\")\n",
    "    print(\"\\n\")"
   ]
  },
  {
   "cell_type": "code",
   "execution_count": 30,
   "metadata": {},
   "outputs": [
    {
     "name": "stdout",
     "output_type": "stream",
     "text": [
      "The average of the numbers is:  83.8\n"
     ]
    }
   ],
   "source": [
    "### **Calculate Average Grade**\n",
    "#Given a list of student grades `[85, 78, 92, 88, 76]`, write a program to calculate the average grade.\n",
    "# Use a loop to sum the grades and then divide by the number of grades.\n",
    "\n",
    "grades=[85, 78, 92, 88, 76]\n",
    "sum = 0\n",
    "\n",
    "for number in grades:\n",
    "    sum+=number\n",
    "    average=sum/len(grades)\n",
    "print(\"The average of the numbers is: \", average)"
   ]
  },
  {
   "cell_type": "code",
   "execution_count": 32,
   "metadata": {},
   "outputs": [
    {
     "name": "stdout",
     "output_type": "stream",
     "text": [
      "The numbers that are greater in average are:  85\n",
      "The numbers that are greater in average are:  92\n",
      "The numbers that are greater in average are:  88\n"
     ]
    }
   ],
   "source": [
    "#Using the average calculated in Exercise 11, find and print the grades that are above average.\n",
    "#Iterate through the list and compare each grade to the average.\n",
    "\n",
    "for number in grades:\n",
    "    if number > average:\n",
    "        print(\"The numbers that are greater in average are: \",number)\n"
   ]
  },
  {
   "cell_type": "code",
   "execution_count": 35,
   "metadata": {},
   "outputs": [
    {
     "name": "stdout",
     "output_type": "stream",
     "text": [
      "Grades 85: Good\n",
      "Grades 78: Average\n",
      "Grades 92: Execellent\n",
      "Grades 88: Good\n",
      "Grades 76: Average\n"
     ]
    }
   ],
   "source": [
    "#Write a program to classify grades into 'Excellent' (>=90), 'Good' (>=80 and <90), 'Average' (>=70 and <80), and 'Poor' (<70) categories.\n",
    "# Use a loop and `if-elif` conditions to classify each grade.\n",
    "\n",
    "for number in grades:\n",
    "    if number >=90:\n",
    "        print(f\"Grades {number}: Execellent\")\n",
    "    elif number >=80:\n",
    "        print(f\"Grades {number}: Good\")\n",
    "    elif number >=70:\n",
    "         print(f\"Grades {number}: Average\")\n",
    "    else :\n",
    "         print(f\"Grades {number}: Poor\")\n"
   ]
  },
  {
   "cell_type": "code",
   "execution_count": null,
   "metadata": {},
   "outputs": [],
   "source": [
    "#**Scenario**: You have a list of daily stock prices `[100, 102, 101, 105, 110, 107, 111]`. Simulate a simple trading strategy where you buy if the next day's price is higher and sell if it's lower.\n",
    "#**Objective**: Write a program to calculate the total profit or loss.\n",
    "#**Hint**: Use a loop to compare each day's price with the next day's price.\n",
    "\n",
    "prices=[100, 102, 101, 105, 110, 107, 111]\n"
   ]
  }
 ],
 "metadata": {
  "kernelspec": {
   "display_name": "Python 3",
   "language": "python",
   "name": "python3"
  },
  "language_info": {
   "codemirror_mode": {
    "name": "ipython",
    "version": 3
   },
   "file_extension": ".py",
   "mimetype": "text/x-python",
   "name": "python",
   "nbconvert_exporter": "python",
   "pygments_lexer": "ipython3",
   "version": "3.12.6"
  }
 },
 "nbformat": 4,
 "nbformat_minor": 2
}

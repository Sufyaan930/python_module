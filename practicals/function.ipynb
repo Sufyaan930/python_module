{
 "cells": [
  {
   "cell_type": "code",
   "execution_count": 1,
   "metadata": {},
   "outputs": [
    {
     "name": "stdout",
     "output_type": "stream",
     "text": [
      "Hello World!\n"
     ]
    }
   ],
   "source": [
    "#Write a function named `greet` that prints \"Hello, World!\" when called.\n",
    "#Use the `def` keyword to define the function.\n",
    "\n",
    "def greet():\n",
    "    print(\"Hello World!\")\n",
    "greet()"
   ]
  },
  {
   "cell_type": "code",
   "execution_count": 2,
   "metadata": {},
   "outputs": [
    {
     "name": "stdout",
     "output_type": "stream",
     "text": [
      "Hello Sufyaan\n"
     ]
    }
   ],
   "source": [
    "#Write a function named `greet_name` that takes a name as a parameter and prints \"Hello, [name]!\".\n",
    "#Use string formatting to include the name in the greeting.\n",
    "\n",
    "def greet_name(name):\n",
    "    print(f\"Hello {name}\")\n",
    "greet_name(\"Sufyaan\")"
   ]
  },
  {
   "cell_type": "code",
   "execution_count": 3,
   "metadata": {},
   "outputs": [
    {
     "name": "stdout",
     "output_type": "stream",
     "text": [
      "The sum of the two numbers is 30\n"
     ]
    }
   ],
   "source": [
    "#Write a function named `add_numbers` that takes two numbers as parameters and returns their sum.\n",
    "#Use the `return` statement to send back the result.\n",
    "\n",
    "def add_numbers(num1, num2):\n",
    "    sum=num1+num2\n",
    "    return sum\n",
    "add_numbers(10,20)\n",
    "print(f\"The sum of the two numbers is {add_numbers(10,20)}\")"
   ]
  },
  {
   "cell_type": "code",
   "execution_count": 4,
   "metadata": {},
   "outputs": [
    {
     "name": "stdout",
     "output_type": "stream",
     "text": [
      "The area of rectangle is 50\n"
     ]
    }
   ],
   "source": [
    "#Write a function named `calculate_area` that takes the length and width of a rectangle and returns the area.\n",
    "#The area of a rectangle is calculated as length × width.\n",
    "\n",
    "def calculate_area(length,width):\n",
    "    area=length*width\n",
    "    return area\n",
    "print(f\"The area of rectangle is {calculate_area(5,10)}\")\n"
   ]
  },
  {
   "cell_type": "code",
   "execution_count": 5,
   "metadata": {},
   "outputs": [
    {
     "name": "stdout",
     "output_type": "stream",
     "text": [
      "50 degree celsius is equal to 122.0\n"
     ]
    }
   ],
   "source": [
    "# Write a function named `celsius_to_fahrenheit` that converts a temperature from Celsius to Fahrenheit.\n",
    "# Use the formula `F = C * 9/5 + 32`.\n",
    "\n",
    "def celsius_to_fahrenheit(celsius):\n",
    "    \n",
    "    fahrenheit=celsius * 9/5 + 32\n",
    "    return fahrenheit\n",
    "celsius=50\n",
    "print(f\"{celsius} degree celsius is equal to {celsius_to_fahrenheit(50)}\")"
   ]
  },
  {
   "cell_type": "code",
   "execution_count": 6,
   "metadata": {},
   "outputs": [
    {
     "name": "stdout",
     "output_type": "stream",
     "text": [
      "The factorial of 5 is 120\n"
     ]
    }
   ],
   "source": [
    "#Write a function named `factorial` that calculates the factorial of a given number using recursion.\n",
    "# The factorial of `n` is `n * factorial(n-1)` with `factorial(0) = 1`.\n",
    "\n",
    "def factorial(number):\n",
    "    if number==0:\n",
    "        return 1\n",
    "    else:\n",
    "        return number * factorial(number-1)\n",
    "num=5\n",
    "print(f\"The factorial of {num} is {factorial(5)}\")\n",
    "    "
   ]
  },
  {
   "cell_type": "code",
   "execution_count": 7,
   "metadata": {},
   "outputs": [
    {
     "name": "stdout",
     "output_type": "stream",
     "text": [
      "Hello Guest\n",
      "Hello Sufyaan\n"
     ]
    }
   ],
   "source": [
    "#Write a function named `greet_default` that greets a user by name, but if no name is provided, it should greet \"Guest\" by default.\n",
    "#Use a default parameter in the function definition.\n",
    "\n",
    "def greet_default(name=\"Guest\"):\n",
    "    print(f\"Hello {name}\")\n",
    "greet_default()\n",
    "greet_default(\"Sufyaan\")"
   ]
  },
  {
   "cell_type": "code",
   "execution_count": 8,
   "metadata": {},
   "outputs": [
    {
     "name": "stdout",
     "output_type": "stream",
     "text": [
      "27\n",
      "16\n"
     ]
    }
   ],
   "source": [
    "#Write a function named `power` that raises a number to a power, with the exponent defaulting to 2 if not provided.\n",
    "#Use `*` for exponentiation.\n",
    "\n",
    "def power(number, power=2):\n",
    "    return number ** power\n",
    "print(power(3,3))\n",
    "print(power(4))"
   ]
  },
  {
   "cell_type": "code",
   "execution_count": 9,
   "metadata": {},
   "outputs": [
    {
     "name": "stdout",
     "output_type": "stream",
     "text": [
      "Hello Sufyaan, Hope you are doing well\n",
      "Hello Sam, Hello\n"
     ]
    }
   ],
   "source": [
    "# Write a function named `custom_greet` that takes a name and a greeting message, but if the greeting message is not provided, it should use \"Hello\".\n",
    "#Use keyword arguments to provide the greeting.\n",
    "\n",
    "def custom_greet(name, message=\"Hello\"):\n",
    "    print(f\"Hello {name}, {message}\")\n",
    "custom_greet(\"Sufyaan\",\"Hope you are doing well\")\n",
    "custom_greet(\"Sam\")"
   ]
  },
  {
   "cell_type": "code",
   "execution_count": 10,
   "metadata": {},
   "outputs": [
    {
     "name": "stdout",
     "output_type": "stream",
     "text": [
      "The sum of the two numbers is: 22\n",
      "The difference of the two numbers is: 18\n",
      "The product of the two numbers is: 40\n",
      "The quotient of the two numbers is: 10.0\n"
     ]
    }
   ],
   "source": [
    "#Write a function named `simple_calculator` that takes two numbers and returns their sum, difference, product, and quotient.\n",
    "#Use `return` to send back multiple values as a tuple\n",
    "\n",
    "def simple_calculator(x,y):\n",
    "    sum=x+y\n",
    "    difference=x-y\n",
    "    product=x*y\n",
    "    quotient=x/y\n",
    "    return sum,difference,product,quotient\n",
    "result=simple_calculator(20,2)\n",
    "print(f\"The sum of the two numbers is: {result[0]}\")\n",
    "print(f\"The difference of the two numbers is: {result[1]}\")\n",
    "print(f\"The product of the two numbers is: {result[2]}\")\n",
    "print(f\"The quotient of the two numbers is: {result[3]}\")\n"
   ]
  },
  {
   "cell_type": "code",
   "execution_count": 11,
   "metadata": {},
   "outputs": [
    {
     "name": "stdout",
     "output_type": "stream",
     "text": [
      "The minimum value is 20 and the maximum value is 100\n"
     ]
    }
   ],
   "source": [
    "#Write a function named `min_max` that takes a list of numbers and returns both the minimum and maximum values.\n",
    "#Use Python’s built-in `min()` and `max()` functions.\n",
    "\n",
    "def min_max(numbers):\n",
    "    return min(numbers)\n",
    "    return max(numbers)\n",
    "num_list=[20,40,60,80,100]\n",
    "min_value=min(num_list)\n",
    "max_value=max(num_list)\n",
    "print(f\"The minimum value is {min_value} and the maximum value is {max_value}\")\n",
    "\n",
    "\n",
    "\n",
    "\n"
   ]
  },
  {
   "cell_type": "code",
   "execution_count": 12,
   "metadata": {},
   "outputs": [],
   "source": [
    "#Write a function named `split_name` that takes a full name as a single string and returns the first and last names separately.\n",
    "#Use string `split()` method."
   ]
  },
  {
   "cell_type": "code",
   "execution_count": 13,
   "metadata": {},
   "outputs": [
    {
     "ename": "SyntaxError",
     "evalue": "incomplete input (1419933535.py, line 5)",
     "output_type": "error",
     "traceback": [
      "\u001b[1;36m  Cell \u001b[1;32mIn[13], line 5\u001b[1;36m\u001b[0m\n\u001b[1;33m    \u001b[0m\n\u001b[1;37m    ^\u001b[0m\n\u001b[1;31mSyntaxError\u001b[0m\u001b[1;31m:\u001b[0m incomplete input\n"
     ]
    }
   ],
   "source": [
    "#Write a function named `apply_function` that takes a list of numbers and a function as arguments. It should return a new list where the function has been applied to each element.\n",
    "#Use a `for` loop to apply the function.\n",
    "\n",
    "def apply_function(numbers, func):\n",
    "    "
   ]
  },
  {
   "cell_type": "code",
   "execution_count": 9,
   "metadata": {},
   "outputs": [
    {
     "name": "stdout",
     "output_type": "stream",
     "text": [
      "The lsit sorted by length is ['date', 'apple', 'grape', 'banana', 'grapefruit']\n"
     ]
    }
   ],
   "source": [
    "#Write a function named `sort_by_length` that takes a list of strings and returns them sorted by their length.\n",
    "#Use the `sorted()` function with a custom `key` argument.\n",
    "\n",
    "def sort_by_length(strings):\n",
    "    return sorted(strings, key=len)\n",
    "list1=['apple','banana','date','grape','grapefruit']\n",
    "\n",
    "sorted_list=sort_by_length(list1)\n",
    "print(f\"The lsit sorted by length is {sorted_list}\")\n"
   ]
  },
  {
   "cell_type": "code",
   "execution_count": 14,
   "metadata": {},
   "outputs": [
    {
     "name": "stdout",
     "output_type": "stream",
     "text": [
      "List containing only even numbers is [2, 4, 6, 8, 10]\n"
     ]
    }
   ],
   "source": [
    "#Write a function named `filter_even` that takes a list of numbers and returns a list of only the even numbers.\n",
    "#Use the `filter()` function and a lambda function.\n",
    "\n",
    "def filter_even(numbers):\n",
    "    even = lambda x: x % 2 == 0  \n",
    "    return list(filter(even, numbers))  \n",
    "numbers = [1, 2, 3, 4, 5, 6, 7, 8, 9, 10]\n",
    "even_numbers = filter_even(numbers)  \n",
    "print(f\"List containing only even numbers is {even_numbers}\")  \n",
    "  \n"
   ]
  },
  {
   "cell_type": "code",
   "execution_count": 1,
   "metadata": {},
   "outputs": [
    {
     "name": "stdout",
     "output_type": "stream",
     "text": [
      "The future value is 1643.6194634870103\n"
     ]
    }
   ],
   "source": [
    "#You need to calculate the future value of an investment.\n",
    "#Write a function named `calculate_compound_interest` that takes the principal amount, interest rate, and number of years, and returns the future value.\n",
    "#Use the formula `FV = P * (1 + r/n)^(nt)` where `P` is the principal, `r` is the annual interest rate, `n` is the number of times that interest is compounded per year, and `t` is the time the money is invested for.\n",
    "\n",
    "def calculate_compound_interest(principal_amount,rate,years,compounded_per_year):\n",
    "    futureValue = principal_amount * (1 + rate/compounded_per_year) ** (compounded_per_year*years)\n",
    "    return futureValue\n",
    "futureValue = calculate_compound_interest(1000,0.05,10,4)\n",
    "print(f\"The future value is {futureValue}\")\n",
    "    "
   ]
  },
  {
   "cell_type": "code",
   "execution_count": 9,
   "metadata": {},
   "outputs": [
    {
     "name": "stdout",
     "output_type": "stream",
     "text": [
      "The mortgage payment is 1583.5105208933105\n"
     ]
    }
   ],
   "source": [
    "#You are calculating monthly mortgage payments.\n",
    "#Write a function named `calculate_mortgage_payment` that takes the loan amount, interest rate, and loan term (in years) and returns the monthly payment.\n",
    "#Use the formula `M = P[r(1+r)^n]/[(1+r)^n – 1]` where `M` is the monthly payment, `P` is the principal loan amount, `r` is the monthly interest rate, and `n` is the number of payments.\n",
    "\n",
    "def calculate_mortgage_payment(amount, rate, loan_term):\n",
    "    \n",
    "    number_payments = loan_term * 12  \n",
    "\n",
    "    \n",
    "    monthly_payment = (amount * rate * (1 + rate) ** number_payments) / ((1 + rate) ** number_payments - 1)\n",
    "\n",
    "    return monthly_payment\n",
    "\n",
    "\n",
    "amount = 300000  \n",
    "annual_rate = 0.04  \n",
    "monthly_rate = annual_rate / 12  \n",
    "loan_term = 25  \n",
    "\n",
    "monthly_payment = calculate_mortgage_payment(amount, monthly_rate, loan_term)\n",
    "print(f\"The mortgage payment is {monthly_payment}\")\n"
   ]
  },
  {
   "cell_type": "code",
   "execution_count": 18,
   "metadata": {},
   "outputs": [
    {
     "name": "stdout",
     "output_type": "stream",
     "text": [
      "The 10 term fibonacci number is 55\n"
     ]
    }
   ],
   "source": [
    "# Write a recursive function named `fibonacci` to return the `n`th Fibonacci number.\n",
    "#The Fibonacci sequence is defined as `F(0) = 0, F(1) = 1, F(n) = F(n-1) + F(n-2)` for `n > 1`.\n",
    "\n",
    "def fibonacci(number):\n",
    "  if number == 0:\n",
    "    return 0\n",
    "  elif number == 1:\n",
    "    return 1\n",
    "  else:\n",
    "    return fibonacci (number-1) + fibonacci (number-2)\n",
    "number = input(\"Please enter a number\")\n",
    "number = int(number)\n",
    "result = fibonacci(number)\n",
    "print(f\"The {number} term fibonacci number is {result}\") \n",
    "\n",
    " "
   ]
  },
  {
   "cell_type": "code",
   "execution_count": null,
   "metadata": {},
   "outputs": [],
   "source": [
    "#Write a recursive function named `tower_of_hanoi` to solve the Tower of Hanoi problem for `n` disks.\n",
    "#The function should print the steps to move the disks from the source rod to the target rod using an auxiliary rod.\n",
    "\n",
    "def tower_of_hanoi():"
   ]
  }
 ],
 "metadata": {
  "kernelspec": {
   "display_name": "Python 3",
   "language": "python",
   "name": "python3"
  },
  "language_info": {
   "codemirror_mode": {
    "name": "ipython",
    "version": 3
   },
   "file_extension": ".py",
   "mimetype": "text/x-python",
   "name": "python",
   "nbconvert_exporter": "python",
   "pygments_lexer": "ipython3",
   "version": "3.12.6"
  }
 },
 "nbformat": 4,
 "nbformat_minor": 2
}

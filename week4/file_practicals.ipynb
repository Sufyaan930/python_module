{
 "cells": [
  {
   "cell_type": "code",
   "execution_count": 2,
   "metadata": {},
   "outputs": [
    {
     "name": "stdout",
     "output_type": "stream",
     "text": [
      "The content of the file is: Hello, this is a sample test file!\n",
      "This line is appended to the end of the file\n",
      "\n",
      "The contents of the file is Hello, this is a sample test file!\n",
      "This line is appended to the end of the file\n",
      "\n",
      "This line is appended to the end of the file\n",
      "\n"
     ]
    }
   ],
   "source": [
    "#1. Create a new file called **`my_file.txt`** and write the following content to it:\n",
    "    \n",
    "\n",
    "    #Hello, this is a sample text file.\n",
    "    \n",
    "    \n",
    "#2. Open the file in **read mode** and print the contents of the file to the console.\n",
    "#3. Open the file in **append mode** and add the following line to the end of the file:\n",
    "    \n",
    "    \n",
    "    #This line is appended to the end of the file.\n",
    "\n",
    "    \n",
    "#4. Open the file again in read mode and print the contents of the file to the console to verify that the new line was added.\n",
    "#5. Close the file.\n",
    "#6. Make sure to handle any exceptions that may occur when opening and writing to the file.\n",
    "\n",
    "file=open(\"my_file.txt\",\"r\")\n",
    "content=file.read()\n",
    "print(f\"The content of the file is: {content}\")\n",
    "\n",
    "\n",
    "file=open(\"my_file.txt\",\"a\")\n",
    "file.write(\"\\nThis line is appended to the end of the file\\n\")\n",
    "file.close()\n",
    "\n",
    "file=open(\"my_file.txt\",\"r\")\n",
    "contents=file.read()\n",
    "print(f\"The contents of the file is {contents}\")\n"
   ]
  }
 ],
 "metadata": {
  "kernelspec": {
   "display_name": "Python 3",
   "language": "python",
   "name": "python3"
  },
  "language_info": {
   "codemirror_mode": {
    "name": "ipython",
    "version": 3
   },
   "file_extension": ".py",
   "mimetype": "text/x-python",
   "name": "python",
   "nbconvert_exporter": "python",
   "pygments_lexer": "ipython3",
   "version": "3.12.6"
  }
 },
 "nbformat": 4,
 "nbformat_minor": 2
}

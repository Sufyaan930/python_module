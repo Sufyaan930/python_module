{
 "cells": [
  {
   "cell_type": "code",
   "execution_count": 7,
   "metadata": {},
   "outputs": [
    {
     "name": "stdout",
     "output_type": "stream",
     "text": [
      "The square root of the number is:  10.0\n",
      "The random integer between 1 and 10 is:  9\n",
      "The sum of the two rolls is: 12 \n",
      "The current date and time is 2024-10-12 22:44:20.591029\n",
      "The age is 21\n"
     ]
    }
   ],
   "source": [
    "#1. Import the **`math`** module and use the **`sqrt`** function to find the square root of a number.\n",
    "#2. Import the **`random`** module and use the **`randint`** function to generate a random integer between 1 and 10.\n",
    "#3. Define a function called **`roll_dice`** that simulates rolling two dice and returns the sum of the two rolls. You can use the **`randint`** function from the **`random`** module to generate random numbers between 1 and 6 to simulate the rolls of each die.\n",
    "#4. Import the **`datetime`** module and use the **`datetime`** class to get the current date and time.\n",
    "#5. Define a function called **`calculate_age`** that takes a person's birth year as an argument and returns their current age using the **`datetime`** module. You can use the **`datetime`** class to get the current year and subtract the person's birth year from it.\n",
    "\n",
    "import math\n",
    "import random\n",
    "import datetime\n",
    "\n",
    "num=100\n",
    "print(\"The square root of the number is: \",math.sqrt(num))\n",
    "\n",
    "randomInt=random.randint(1,10)\n",
    "print(\"The random integer between 1 and 10 is: \",randomInt)\n",
    "\n",
    "def roll_dice():\n",
    "    first_roll=random.randint(1,6)\n",
    "    second_roll=random.randint(1,6)\n",
    "    sum = first_roll+second_roll\n",
    "    return sum\n",
    "result=roll_dice()\n",
    "print(f\"The sum of the two rolls is: {result} \")\n",
    "\n",
    "now = datetime.datetime.now()\n",
    "print(\"The current date and time is\",now)\n",
    "\n",
    "\n",
    "def calculate_age(birth_year):\n",
    "    current_year=datetime.datetime.now().year\n",
    "    age=current_year - birth_year\n",
    "    return age\n",
    "\n",
    "birth_year=2003\n",
    "age=calculate_age(birth_year)\n",
    "print(f\"The age is {age}\")\n",
    "\n",
    "\n"
   ]
  }
 ],
 "metadata": {
  "kernelspec": {
   "display_name": "Python 3",
   "language": "python",
   "name": "python3"
  },
  "language_info": {
   "codemirror_mode": {
    "name": "ipython",
    "version": 3
   },
   "file_extension": ".py",
   "mimetype": "text/x-python",
   "name": "python",
   "nbconvert_exporter": "python",
   "pygments_lexer": "ipython3",
   "version": "3.12.6"
  }
 },
 "nbformat": 4,
 "nbformat_minor": 2
}

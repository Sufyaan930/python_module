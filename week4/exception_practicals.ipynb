{
 "cells": [
  {
   "cell_type": "code",
   "execution_count": 1,
   "metadata": {},
   "outputs": [
    {
     "name": "stdout",
     "output_type": "stream",
     "text": [
      "An error occured:division by zero\n",
      "An error occured:unsupported operand type(s) for /: 'int' and 'str'\n"
     ]
    }
   ],
   "source": [
    "#1. Define a function named **`divide_numbers`** that takes two parameters, **`numerator`** and **`denominator`**.\n",
    "#2. Inside the function, write a **`try`** block that divides the **`numerator`** by the **`denominator`**.\n",
    "#3. If the division is successful, print the result to the console.\n",
    "#4. If the division fails due to an error, catch the exception and print a message to the console saying that an error occurred while performing the division. Then print the exception using `str(e)`\n",
    "#5. Call the **`divide_numbers`** function with the parameters 10 and 0 to test the **`ZeroDivisionError`** by dividing by 0.\n",
    "#6. Call the **`divide_numbers`** function with the parameters 10 and \"hello\" to test the exception handling for other types of exceptions.\n",
    "\n",
    "def divide_numbers(numerator,denominator):\n",
    "    try:\n",
    "        result=numerator/denominator\n",
    "        print(f\"The result is: {result}\")\n",
    "    except Exception as e:\n",
    "        print(f'An error occured:{str(e)}')\n",
    "divide_numbers(10,0)\n",
    "divide_numbers(10,'hello')"
   ]
  }
 ],
 "metadata": {
  "kernelspec": {
   "display_name": "Python 3",
   "language": "python",
   "name": "python3"
  },
  "language_info": {
   "codemirror_mode": {
    "name": "ipython",
    "version": 3
   },
   "file_extension": ".py",
   "mimetype": "text/x-python",
   "name": "python",
   "nbconvert_exporter": "python",
   "pygments_lexer": "ipython3",
   "version": "3.12.6"
  }
 },
 "nbformat": 4,
 "nbformat_minor": 2
}

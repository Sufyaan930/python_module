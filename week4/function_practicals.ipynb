{
 "cells": [
  {
   "cell_type": "code",
   "execution_count": 2,
   "metadata": {},
   "outputs": [
    {
     "name": "stdout",
     "output_type": "stream",
     "text": [
      "The area of the triangle is 25.0\n"
     ]
    }
   ],
   "source": [
    "#1. Define a function called **`calculate_triangle_area`** that takes in two arguments:\n",
    "    #1. base: the base length of a triangle\n",
    "    #2. height: the height of a triangle\n",
    "#2. Inside the function, calculate the area of the triangle using the formula: **`0.5 * base * height`**\n",
    "#3. Return the calculated area\n",
    "#4. Call the function with base = 5 and height = 10 and print out the result\n",
    "\n",
    "def calculate_triangle_area(base,height):\n",
    "    area_triangle=0.5*base*height\n",
    "    return area_triangle\n",
    "result=calculate_triangle_area(5,10)\n",
    "print(f\"The area of the triangle is {result}\")"
   ]
  }
 ],
 "metadata": {
  "kernelspec": {
   "display_name": "Python 3",
   "language": "python",
   "name": "python3"
  },
  "language_info": {
   "codemirror_mode": {
    "name": "ipython",
    "version": 3
   },
   "file_extension": ".py",
   "mimetype": "text/x-python",
   "name": "python",
   "nbconvert_exporter": "python",
   "pygments_lexer": "ipython3",
   "version": "3.12.6"
  }
 },
 "nbformat": 4,
 "nbformat_minor": 2
}

{
 "cells": [
  {
   "cell_type": "code",
   "execution_count": null,
   "metadata": {},
   "outputs": [],
   "source": [
    "#creating and adding file on github repository\n",
    "#git add .\n",
    "#. means all files\n",
    "#git commit -m \"initial commit\"\n",
    "#git push oriigin main\n"
   ]
  },
  {
   "cell_type": "code",
   "execution_count": null,
   "metadata": {},
   "outputs": [],
   "source": [
    "#list--we use []--Ordered, Changeable, Duplicates\n",
    "#tuple--we use ()--Ordered, Unchangeable, Duplicates\n",
    "#set--we use {}--Unordered, Unchangeable, Unindexed, No Duplicates\n",
    "#dictionary--Ordered, Changeable, No duplicates\n",
    "person ={\n",
    "    'name':'tom',\n",
    "    'age':11,\n",
    "    'married':False\n",
    "\n",
    "}\n",
    "#index--[0:3]--first is inclusive and second is exclusive\n",
    "\n",
    "#append()--use to add element in list\n",
    "#pop()--use to remove element from list\n",
    "#len()--length of the list\n",
    "#sum()--add all values in list\n",
    "\n",
    "\n",
    "#--once defined a tuple, it cannot be modified later\n",
    "#--cannot append and pop in tuple\n",
    "\n",
    "#--set is unindexed that is the followin will not work\n",
    "#--print (even[0])\n",
    "#--we can add and remove vlaues in sets\n",
    "#--.add() and .remove()\n",
    "#--to join sets we use .union()\n",
    "\n",
    "\n",
    "\n",
    "\n",
    "#-- to delete in dictionaries we use the 'del' keyword"
   ]
  },
  {
   "cell_type": "code",
   "execution_count": 5,
   "metadata": {},
   "outputs": [
    {
     "name": "stdout",
     "output_type": "stream",
     "text": [
      "hello world\n"
     ]
    }
   ],
   "source": [
    "#FUCNTIONS\n",
    "\n",
    "def hello():\n",
    "    print('hello world')\n",
    "\n",
    "hello()\n",
    "\n"
   ]
  }
 ],
 "metadata": {
  "kernelspec": {
   "display_name": "Python 3",
   "language": "python",
   "name": "python3"
  },
  "language_info": {
   "codemirror_mode": {
    "name": "ipython",
    "version": 3
   },
   "file_extension": ".py",
   "mimetype": "text/x-python",
   "name": "python",
   "nbconvert_exporter": "python",
   "pygments_lexer": "ipython3",
   "version": "3.12.6"
  }
 },
 "nbformat": 4,
 "nbformat_minor": 2
}
